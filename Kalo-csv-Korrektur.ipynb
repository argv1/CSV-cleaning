{
 "cells": [
  {
   "cell_type": "code",
   "execution_count": 1,
   "source": [
    "import glob\r\n",
    "import os\r\n",
    "from pathlib import Path"
   ],
   "outputs": [],
   "metadata": {}
  },
  {
   "cell_type": "code",
   "execution_count": null,
   "source": [
    "basefolder = \"R:/Kalo/Logs/\"\r\n",
    "kalofolder = max(glob.glob(os.path.join(basefolder, '*/')), key=os.path.getmtime)\r\n",
    "csvfiles = list(Path(kalofolder).glob('*.[Cc][Ss][Vv]'))\r\n",
    "\r\n",
    "print(f\"Aktueller Kalo Ordner: {kalofolder}\\nGefundene Dateien: {len(csvfiles)}\")"
   ],
   "outputs": [],
   "metadata": {}
  },
  {
   "cell_type": "code",
   "execution_count": null,
   "source": [
    "for csv in csvfiles:\r\n",
    "    with open(csv, \"r\") as reader:\r\n",
    "        collected, newfile, sep = [], [], ';'\r\n",
    "        first_line = reader.readline()\r\n",
    "        fields = first_line.count(sep)\r\n",
    "\r\n",
    "        for line in reader.readlines():\r\n",
    "            tmp = []\r\n",
    "            if(\"VO_GERAETE\" in str(csv)):\r\n",
    "                if(line.split(\";\")[6].isnumeric() == False or int(line.split(\";\")[6]) > 2147483647):\r\n",
    "                    tmp.extend(line.split(\";\"))\r\n",
    "                    tmp[6] = \"\"\r\n",
    "                    line = ';'.join(tmp)                \r\n",
    "            elif(\"VO_ZAEHLERSTAENDE\" in str(csv)):\r\n",
    "                if(line.split(\";\")[5].isnumeric() == False or int(line.split(\";\")[5]) > 2147483647):\r\n",
    "                    tmp.extend(line.split(\";\"))\r\n",
    "                    tmp[5] = \"\"\r\n",
    "                    line = ';'.join(tmp)               \r\n",
    "            new = line.rstrip('\\n').split(sep)\r\n",
    "            if(collected):\r\n",
    "                collected[-1] += new[0]\r\n",
    "                collected.extend(new[1:])\r\n",
    "            else:\r\n",
    "                collected = new\r\n",
    "            if(len(collected) < fields):\r\n",
    "               continue\r\n",
    "            newfile.append(';'.join(collected))\r\n",
    "            collected = []\r\n",
    "\r\n",
    "    with open(f\"{str(csv)[:-4]}_neu.csv\", \"w\") as writer:\r\n",
    "        writer.write(f\"{first_line}\")\r\n",
    "        for line in newfile[:-1]:\r\n",
    "            writer.write(f\"{line}\\n\")\r\n",
    "        writer.write(f\"{newfile[-1]}\")\r\n",
    "    print(f\"{str(csv)[:-4]}_neu.csv fertig gestellt.\\n\")"
   ],
   "outputs": [],
   "metadata": {}
  }
 ],
 "metadata": {
  "kernelspec": {
   "name": "python3",
   "display_name": "Python 3.9.2 64-bit"
  },
  "language_info": {
   "codemirror_mode": {
    "name": "ipython",
    "version": 3
   },
   "file_extension": ".py",
   "mimetype": "text/x-python",
   "name": "python",
   "nbconvert_exporter": "python",
   "pygments_lexer": "ipython3",
   "version": "3.9.2"
  },
  "interpreter": {
   "hash": "64ee4057e43965c9a6e9215d1e720154bbb521e66b17dcb598d693e045f9d10f"
  }
 },
 "nbformat": 4,
 "nbformat_minor": 5
}