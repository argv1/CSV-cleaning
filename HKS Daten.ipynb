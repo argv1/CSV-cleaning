{
 "cells": [
  {
   "cell_type": "markdown",
   "id": "e233c0a2",
   "metadata": {},
   "source": [
    "# HKS Daten Aufbereitung"
   ]
  },
  {
   "cell_type": "markdown",
   "id": "8bac055e",
   "metadata": {},
   "source": [
    "### Konvertierung der HKS .rep Dateien"
   ]
  },
  {
   "cell_type": "code",
   "execution_count": 1,
   "id": "b3209655",
   "metadata": {},
   "outputs": [],
   "source": [
    "import datetime\n",
    "import os\n",
    "import pandas as pd\n",
    "from pathlib import Path\n",
    "import re\n",
    "\n",
    "filepath = \"C:/Users/meyerc3/HKS 2021/\"\n",
    "filename = \"konsoldierte-HKS-Übersicht.csv\""
   ]
  },
  {
   "cell_type": "markdown",
   "id": "f3c62935",
   "metadata": {},
   "source": [
    "- Sammeln aller potenziellen Dateien  # rglob = rekursive, glob = nicht rekursive\n",
    "- Öffnen der einzelnen Dateien (am besten lokal)\n",
    "- Löschen der ersten vier Zeilen\n",
    "- Zusammenführen in ein Dataframe"
   ]
  },
  {
   "cell_type": "code",
   "execution_count": 2,
   "id": "c2f695dd",
   "metadata": {},
   "outputs": [],
   "source": [
    "all_reps = list(Path(filepath).rglob(\"*.[Rr][Ee][Pp]\"))\n",
    "consolidated_file = []\n",
    "\n",
    "with open(all_reps[0], \"r\") as f: \n",
    "    consolidated_file.append(f.readlines()[4].strip() + \"\\t\" + \"Dateinamen\")\n",
    "\n",
    "for entry in all_reps:\n",
    "    tmp = []\n",
    "    tmp.extend([line.strip() for line in open(entry)][5:])\n",
    "    for line in tmp:\n",
    "        line = line + \"\\t\" + str(entry)\n",
    "        consolidated_file.append(line)"
   ]
  },
  {
   "cell_type": "markdown",
   "id": "beb6ec98",
   "metadata": {},
   "source": [
    "- In DataFrame überführen\n",
    "- Doppelte Einträge?\n",
    "- Spalten für Dateinamen, Gateway & Netzertkknoten ableiten\n",
    "- Einfügen der Datumsspalten und befüllen\n",
    "- Reihenfolge der Spalten aktualisieren"
   ]
  },
  {
   "cell_type": "code",
   "execution_count": 3,
   "id": "29e5c229",
   "metadata": {},
   "outputs": [
    {
     "name": "stdout",
     "output_type": "stream",
     "text": [
      " 11710 doppelte Einträge für die gleiche Geräte ID\n"
     ]
    }
   ],
   "source": [
    "def filename_split(filename):\n",
    "    res = re.search(r'.*\\\\(.+_(\\d+)_(\\d+)_\\d+\\.rep)', filename)\n",
    "    return pd.Series([res[1], res[2], res[3]])\n",
    "\n",
    "def date_split(start_date):\n",
    "    res = []\n",
    "    if(start_date == \"x x x\"):\n",
    "        return pd.Series([17*\"x x x\"])\n",
    "    else:\n",
    "        date = datetime.datetime.strptime(start_date, \"%d.%m.%y\")\n",
    "        for n in range(0,17):\n",
    "            first = date.replace(day=1)\n",
    "            date = first - datetime.timedelta(days=1)\n",
    "            res.append(date.strftime(\"%d.%m.%y\"))\n",
    "        return pd.Series(res)   \n",
    "\n",
    "data = [line.split('\\t') for line in consolidated_file]\n",
    "df = pd.DataFrame(data[1:], columns=data[0])\n",
    "\n",
    "duplicateRowsDF = df[df.duplicated(['Geräte ID'])]\n",
    "print(f\" {len(duplicateRowsDF)} doppelte Einträge für die gleiche Geräte ID\")\n",
    "df.drop_duplicates(subset=['Geräte ID'], inplace=True)\n",
    "\n",
    "df[['Dateinamen', 'Gateway', 'Netzwerkknoten']] = df['Dateinamen'].apply(filename_split)\n",
    "\n",
    "df[['Stat. Datum2', 'Stat. Datum3', 'Stat. Datum4', 'Stat. Datum5', 'Stat. Datum6', 'Stat. Datum7', 'Stat. Datum8', 'Stat. Datum9', 'Stat. Datum10', 'Stat. Datum11', 'Stat. Datum12', 'Stat. Datum13', 'Stat. Datum14', 'Stat. Datum15', 'Stat. Datum16', 'Stat. Datum17', 'Stat. Datum18']] = df['Statistik Datum'].apply(date_split)"
   ]
  },
  {
   "cell_type": "markdown",
   "id": "8ecfaa17",
   "metadata": {},
   "source": [
    "- Erstelle finales DataFrame in dem alle Daten und Werte untereinander aufgelistet sind"
   ]
  },
  {
   "cell_type": "code",
   "execution_count": 4,
   "id": "a4d8521a",
   "metadata": {},
   "outputs": [],
   "source": [
    "result = pd.concat([df[['Dateinamen', 'Gateway', 'Geräte ID', 'Statistik Datum', 'Stat. Wert1']].rename(columns={'Statistik Datum':'Datum', 'Stat. Wert1':'Wert'}),\n",
    "   df[['Dateinamen', 'Gateway', 'Geräte ID', 'Stat. Datum2', 'Stat. Wert2']].rename(columns={'Stat. Datum2':'Datum', 'Stat. Wert2':'Wert'}),\n",
    "   df[['Dateinamen', 'Gateway', 'Geräte ID', 'Stat. Datum3', 'Stat. Wert3']].rename(columns={'Stat. Datum3':'Datum', 'Stat. Wert3':'Wert'}),          \n",
    "   df[['Dateinamen', 'Gateway', 'Geräte ID', 'Stat. Datum4', 'Stat. Wert4']].rename(columns={'Stat. Datum4':'Datum', 'Stat. Wert4':'Wert'}),         \n",
    "   df[['Dateinamen', 'Gateway', 'Geräte ID', 'Stat. Datum5', 'Stat. Wert5']].rename(columns={'Stat. Datum5':'Datum', 'Stat. Wert5':'Wert'}),\n",
    "   df[['Dateinamen', 'Gateway', 'Geräte ID', 'Stat. Datum6', 'Stat. Wert6']].rename(columns={'Stat. Datum6':'Datum', 'Stat. Wert6':'Wert'}),\n",
    "   df[['Dateinamen', 'Gateway', 'Geräte ID', 'Stat. Datum7', 'Stat. Wert7']].rename(columns={'Stat. Datum7':'Datum', 'Stat. Wert7':'Wert'}),\n",
    "   df[['Dateinamen', 'Gateway', 'Geräte ID', 'Stat. Datum8', 'Stat. Wert8']].rename(columns={'Stat. Datum8':'Datum', 'Stat. Wert8':'Wert'}),\n",
    "   df[['Dateinamen', 'Gateway', 'Geräte ID', 'Stat. Datum9', 'Stat. Wert9']].rename(columns={'Stat. Datum9':'Datum', 'Stat. Wert9':'Wert'}),\n",
    "   df[['Dateinamen', 'Gateway', 'Geräte ID', 'Stat. Datum10', 'Stat. Wert10']].rename(columns={'Stat. Datum10':'Datum', 'Stat. Wert10':'Wert'}),\n",
    "   df[['Dateinamen', 'Gateway', 'Geräte ID', 'Stat. Datum11', 'Stat. Wert11']].rename(columns={'Stat. Datum11':'Datum', 'Stat. Wert11':'Wert'}),\n",
    "   df[['Dateinamen', 'Gateway', 'Geräte ID', 'Stat. Datum12', 'Stat. Wert12']].rename(columns={'Stat. Datum12':'Datum', 'Stat. Wert12':'Wert'}),          \n",
    "   df[['Dateinamen', 'Gateway', 'Geräte ID', 'Stat. Datum13', 'Stat. Wert13']].rename(columns={'Stat. Datum13':'Datum', 'Stat. Wert13':'Wert'}),         \n",
    "   df[['Dateinamen', 'Gateway', 'Geräte ID', 'Stat. Datum14', 'Stat. Wert14']].rename(columns={'Stat. Datum14':'Datum', 'Stat. Wert14':'Wert'}),\n",
    "   df[['Dateinamen', 'Gateway', 'Geräte ID', 'Stat. Datum15', 'Stat. Wert15']].rename(columns={'Stat. Datum15':'Datum', 'Stat. Wert15':'Wert'}),\n",
    "   df[['Dateinamen', 'Gateway', 'Geräte ID', 'Stat. Datum16', 'Stat. Wert16']].rename(columns={'Stat. Datum16':'Datum', 'Stat. Wert16':'Wert'}),\n",
    "   df[['Dateinamen', 'Gateway', 'Geräte ID', 'Stat. Datum17', 'Stat. Wert17']].rename(columns={'Stat. Datum17':'Datum', 'Stat. Wert17':'Wert'}),\n",
    "   df[['Dateinamen', 'Gateway', 'Geräte ID', 'Stat. Datum18', 'Stat. Wert18']].rename(columns={'Stat. Datum18':'Datum', 'Stat. Wert18':'Wert'})], ignore_index=True)"
   ]
  },
  {
   "cell_type": "markdown",
   "id": "5f07afd9",
   "metadata": {},
   "source": [
    "- Ersetzen der NaN werte in der Datumsspalte durch \"x x x\""
   ]
  },
  {
   "cell_type": "code",
   "execution_count": 5,
   "id": "da74fe57",
   "metadata": {},
   "outputs": [],
   "source": [
    "result[\"Datum\"].fillna(value=\"x x x\", inplace=True)"
   ]
  },
  {
   "cell_type": "markdown",
   "id": "91d5b713",
   "metadata": {},
   "source": [
    "- Speichern als konsolidierte Datei"
   ]
  },
  {
   "cell_type": "code",
   "execution_count": 6,
   "id": "9ae29d3c",
   "metadata": {},
   "outputs": [
    {
     "name": "stdout",
     "output_type": "stream",
     "text": [
      "<class 'pandas.core.frame.DataFrame'>\n",
      "RangeIndex: 184986 entries, 0 to 184985\n",
      "Data columns (total 5 columns):\n",
      " #   Column      Non-Null Count   Dtype \n",
      "---  ------      --------------   ----- \n",
      " 0   Dateinamen  184986 non-null  object\n",
      " 1   Gateway     184986 non-null  object\n",
      " 2   Geräte ID   184986 non-null  object\n",
      " 3   Datum       184986 non-null  object\n",
      " 4   Wert        184986 non-null  object\n",
      "dtypes: object(5)\n",
      "memory usage: 7.1+ MB\n"
     ]
    }
   ],
   "source": [
    "result.info()"
   ]
  },
  {
   "cell_type": "code",
   "execution_count": 7,
   "id": "d1b34280",
   "metadata": {},
   "outputs": [],
   "source": [
    "result.to_csv(f\"{filepath}{filename}\", index=False, sep=\";\", encoding=\"utf-8\")  "
   ]
  }
 ],
 "metadata": {
  "kernelspec": {
   "display_name": "Python 3",
   "language": "python",
   "name": "python3"
  },
  "language_info": {
   "codemirror_mode": {
    "name": "ipython",
    "version": 3
   },
   "file_extension": ".py",
   "mimetype": "text/x-python",
   "name": "python",
   "nbconvert_exporter": "python",
   "pygments_lexer": "ipython3",
   "version": "3.8.8"
  }
 },
 "nbformat": 4,
 "nbformat_minor": 5
}
